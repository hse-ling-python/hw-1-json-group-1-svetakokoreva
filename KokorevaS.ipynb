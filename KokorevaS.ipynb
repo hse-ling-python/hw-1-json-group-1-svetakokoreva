{
 "cells": [
  {
   "cell_type": "markdown",
   "metadata": {},
   "source": [
    "# №1 #\n",
    "Подключаем json, cоздаем пустой массив, загружаем файл c твитами, каждый твит добавляем в массив, считаем число твитов:"
   ]
  },
  {
   "cell_type": "code",
   "execution_count": 91,
   "metadata": {},
   "outputs": [
    {
     "name": "stdout",
     "output_type": "stream",
     "text": [
      "2556\n"
     ]
    }
   ],
   "source": [
    "import json\n",
    "from collections import Counter\n",
    "from string import punctuation\n",
    "import re\n",
    "twitter = []\n",
    "for line in open('hw_3_twitter.json'):\n",
    "    twitter.append(json.loads(line))\n",
    "twit_num = len(twitter)\n",
    "print(twit_num) "
   ]
  },
  {
   "cell_type": "markdown",
   "metadata": {},
   "source": [
    "# №2 #\n",
    "Подключаем счетчик удаленных твитов, ищем удаленные слова по маркеру 'delete', добавляем их в счетчик, считаем процент удаленных твитов от количества всех твитов:"
   ]
  },
  {
   "cell_type": "code",
   "execution_count": 36,
   "metadata": {},
   "outputs": [
    {
     "name": "stdout",
     "output_type": "stream",
     "text": [
      "14.1627543036\n"
     ]
    }
   ],
   "source": [
    "del_twit_count = 0\n",
    "for twit in twitter:\n",
    "    if 'delete' in twit:\n",
    "        del_twit_count += 1\n",
    "del_twit_percent = del_twit_count/float(twit_num)*100\n",
    "print(del_twit_percent)"
   ]
  },
  {
   "cell_type": "markdown",
   "metadata": {},
   "source": [
    "# №3 \n",
    "Для каждого твита ищем язык по ключу 'lang', в пустой массив добавляем его значение, создаем частотный словарь (язык - число твитов на нем), выводим 10 самых частотных языков по очереди:"
   ]
  },
  {
   "cell_type": "code",
   "execution_count": 59,
   "metadata": {},
   "outputs": [
    {
     "name": "stdout",
     "output_type": "stream",
     "text": [
      "en\n",
      "ja\n",
      "es\n",
      "ko\n",
      "th\n",
      "ar\n",
      "und\n",
      "in\n",
      "pt\n",
      "fr\n"
     ]
    }
   ],
   "source": [
    "langs = []\n",
    "for twit in twitter:\n",
    "    if 'lang' in twit:\n",
    "        langs.append(twit['lang'])       \n",
    "langs_counter = Counter(langs)\n",
    "ten_top_langs = langs_counter.most_common(10)\n",
    "for lang in ten_top_langs:\n",
    "    lang = lang[0]\n",
    "    print(lang)"
   ]
  },
  {
   "cell_type": "markdown",
   "metadata": {},
   "source": [
    "# №4\n",
    "Если маркер 'user' есть в твите, добавляем id юзера в пустой массив, создаем частотный словарь (id - кол-во твитов от него), выводим его по кол-ву твитов (по убыванию), если кол-во твитов пользователя > 1, добавляем в счетчик 1, выводим получившееся число из счетчика (т.е. кол-во авторов, написавших > 1 твита):"
   ]
  },
  {
   "cell_type": "code",
   "execution_count": 70,
   "metadata": {},
   "outputs": [
    {
     "name": "stdout",
     "output_type": "stream",
     "text": [
      "25\n"
     ]
    }
   ],
   "source": [
    "users = []\n",
    "for twit in twitter:\n",
    "    if 'user' in twit:\n",
    "        users.append(twit['user']['id'])\n",
    "user_count = Counter(users) \n",
    "top_users = user_count.most_common\n",
    "user_counter = 0 \n",
    "for value in user_count.values():\n",
    "    if value > 1:\n",
    "        user_counter += 1\n",
    "print(user_counter)    "
   ]
  },
  {
   "cell_type": "markdown",
   "metadata": {},
   "source": [
    "# №5\n",
    "Если в 'hashtags' есть 'text', добавляем в массив значение 'text', создаем частотный словарь (хэштег - кол-во упоминаний), выводим 20 самых популярных хэштегов:"
   ]
  },
  {
   "cell_type": "code",
   "execution_count": 80,
   "metadata": {},
   "outputs": [
    {
     "name": "stdout",
     "output_type": "stream",
     "text": [
      "BTS\n",
      "방탄소년단\n",
      "AMAs\n",
      "人気投票ガチャ\n",
      "태형\n",
      "뷔\n",
      "BTSLoveYourselfTour\n",
      "PledgeForSwachhBharat\n",
      "MPN\n",
      "오늘의방탄\n",
      "BTSinChicago\n",
      "V\n",
      "เป๊กผลิตโชค\n",
      "시카고1회차공연\n",
      "JIMIN\n",
      "PCAs\n",
      "NCT\n",
      "WajahmuPlastik\n",
      "running\n",
      "지민\n"
     ]
    }
   ],
   "source": [
    "hashtags = []\n",
    "for twit in twitter:\n",
    "    if 'entities' in twit:\n",
    "        if 'hashtags' in twit['entities'] is not None: \n",
    "            for i in twit['entities']['hashtags']:\n",
    "                hashtags.append(i['text']) \n",
    "hashtag_counter = Counter(hashtags)\n",
    "twenty_top_hashtags = hashtag_counter.most_common(20)\n",
    "for hashtag in twenty_top_hashtags:\n",
    "    hashtag = hashtag[0]    \n",
    "    print(hashtag)"
   ]
  },
  {
   "cell_type": "markdown",
   "metadata": {},
   "source": [
    "# № 7\n",
    "Создаем пустой словарь, удаляем удаленные твиты, считаем кол-во подписчиков у юзеров, выводим самых популярный юзеров и число их подписчиков:"
   ]
  },
  {
   "cell_type": "code",
   "execution_count": 87,
   "metadata": {},
   "outputs": [
    {
     "name": "stdout",
     "output_type": "stream",
     "text": [
      "Filosofía♕\t2521403\n",
      "FITNESS Magazine\t1491309\n",
      "malaysiakini.com\t1206759\n",
      "NYT Science\t1137374\n",
      "Gramática\t625463\n",
      "TGRT Haber\t392472\n",
      "The Sun Football ⚽\t383698\n",
      "Melbourne, Australia\t374222\n",
      "Roznama Express\t318189\n",
      "💞 ცųཞɠɛཞცơơɠıɛ 💞\t311319\n"
     ]
    }
   ],
   "source": [
    "top_authors = {}\n",
    "for i in range(len(twitter)):\n",
    "    if 'delete' not in twitter[i].keys(): \n",
    "        top_authors[twitter[i]['user']['name']] = twitter[i]['user']['followers_count'] \n",
    "author_count = Counter(top_authors).most_common(10)\n",
    "for af in author_count:\n",
    "    auth = af[0]\n",
    "    follower = af[1]\n",
    "    print(auth + '\\t' + str(follower))"
   ]
  },
  {
   "cell_type": "markdown",
   "metadata": {},
   "source": [
    "# №8\n",
    "Убираем удаленные твиты, ищем после тега 'source' источники, создаем счетчик (источник - кол-во упоминаний), ищем 10 самых популярных источников, выводим их:"
   ]
  },
  {
   "cell_type": "code",
   "execution_count": 92,
   "metadata": {},
   "outputs": [
    {
     "name": "stdout",
     "output_type": "stream",
     "text": [
      "Twitter for iPhone\n",
      "Twitter for Android\n",
      "Twitter Web Client\n",
      "twittbot.net\n",
      "Twitter Lite\n",
      "Twitter for iPad\n",
      "TweetDeck\n",
      "Facebook\n",
      "IFTTT\n",
      "dlvr.it\n"
     ]
    }
   ],
   "source": [
    "progs = []\n",
    "for i in range(len(twitter)):\n",
    "    if 'delete' not in twitter[i].keys():\n",
    "        source = twitter[i]['source']\n",
    "        source = re.search(r'>(.+?)</a>', source)\n",
    "        progs.append(source.group(1))\n",
    "progs_count = Counter(progs).most_common(10)\n",
    "for prog in progs_count:\n",
    "    one_prog = prog[0]\n",
    "    print(one_prog)"
   ]
  }
 ],
 "metadata": {
  "kernelspec": {
   "display_name": "Python 2",
   "language": "python",
   "name": "python2"
  },
  "language_info": {
   "codemirror_mode": {
    "name": "ipython",
    "version": 2
   },
   "file_extension": ".py",
   "mimetype": "text/x-python",
   "name": "python",
   "nbconvert_exporter": "python",
   "pygments_lexer": "ipython2",
   "version": "2.7.16"
  }
 },
 "nbformat": 4,
 "nbformat_minor": 2
}
